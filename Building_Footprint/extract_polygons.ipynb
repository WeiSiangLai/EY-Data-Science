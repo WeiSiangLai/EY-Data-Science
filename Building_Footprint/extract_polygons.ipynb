{
 "cells": [
  {
   "cell_type": "code",
   "execution_count": 1,
   "id": "91148ab8-7ce1-4fd4-9042-65d609c49d2b",
   "metadata": {},
   "outputs": [
    {
     "name": "stdout",
     "output_type": "stream",
     "text": [
      "Requirement already satisfied: pykml in c:\\users\\user\\documents\\anaconda\\lib\\site-packages (0.2.0)Note: you may need to restart the kernel to use updated packages.\n",
      "\n",
      "Requirement already satisfied: shapely in c:\\users\\user\\documents\\anaconda\\lib\\site-packages (2.0.6)\n",
      "Requirement already satisfied: lxml in c:\\users\\user\\documents\\anaconda\\lib\\site-packages (4.9.3)\n",
      "Requirement already satisfied: numpy<3,>=1.14 in c:\\users\\user\\documents\\anaconda\\lib\\site-packages (from shapely) (1.26.4)\n"
     ]
    }
   ],
   "source": [
    "pip install pykml shapely lxml"
   ]
  },
  {
   "cell_type": "code",
   "execution_count": 2,
   "id": "c849df47-9ff3-4e55-8f89-b21b2e2a2fae",
   "metadata": {},
   "outputs": [
    {
     "name": "stdout",
     "output_type": "stream",
     "text": [
      "Coordinates saved to polygon_coordinates.csv\n"
     ]
    }
   ],
   "source": [
    "import csv\n",
    "from lxml import etree\n",
    "\n",
    "# Path to your KML file\n",
    "kml_file = 'Building_Footprint.kml'  # Replace with your KML file path\n",
    "\n",
    "# Parse the KML file\n",
    "tree = etree.parse(kml_file)\n",
    "root = tree.getroot()\n",
    "\n",
    "# Define the namespace to use when searching for elements\n",
    "namespaces = {'kml': 'http://www.opengis.net/kml/2.2'}\n",
    "\n",
    "# List to store the polygon coordinates\n",
    "polygons = []\n",
    "\n",
    "# Iterate over all <Placemark> elements using the namespace\n",
    "for placemark in root.findall('.//kml:Placemark', namespaces=namespaces):\n",
    "    polygon = placemark.find('.//kml:Polygon', namespaces=namespaces)\n",
    "    if polygon is not None:\n",
    "        coordinates = polygon.find('.//kml:coordinates', namespaces=namespaces).text.strip()\n",
    "        coord_list = [\n",
    "            (float(coord.split(',')[0]), float(coord.split(',')[1]))  # Extract lon, lat\n",
    "            for coord in coordinates.split()\n",
    "        ]\n",
    "        polygons.append(coord_list)\n",
    "\n",
    "# Save to CSV with polygon number\n",
    "csv_file = 'polygon_coordinates.csv'  # Path to save the CSV file\n",
    "\n",
    "# Open CSV file for writing\n",
    "with open(csv_file, mode='w', newline='') as file:\n",
    "    writer = csv.writer(file)\n",
    "    writer.writerow(['Polygon Number', 'Longitude', 'Latitude'])  # Write header\n",
    "\n",
    "    # Write each polygon's coordinates along with its polygon number\n",
    "    for i, polygon in enumerate(polygons, 1):  # Start the polygon numbering from 1\n",
    "        for coord in polygon:\n",
    "            writer.writerow([i, coord[0], coord[1]])\n",
    "\n",
    "print(f\"Coordinates saved to {csv_file}\")\n"
   ]
  },
  {
   "cell_type": "code",
   "execution_count": null,
   "id": "47c5c184-1e79-4999-acc4-2fdd86d9ccbb",
   "metadata": {},
   "outputs": [],
   "source": []
  }
 ],
 "metadata": {
  "kernelspec": {
   "display_name": "Python 3 (ipykernel)",
   "language": "python",
   "name": "python3"
  },
  "language_info": {
   "codemirror_mode": {
    "name": "ipython",
    "version": 3
   },
   "file_extension": ".py",
   "mimetype": "text/x-python",
   "name": "python",
   "nbconvert_exporter": "python",
   "pygments_lexer": "ipython3",
   "version": "3.11.5"
  }
 },
 "nbformat": 4,
 "nbformat_minor": 5
}
